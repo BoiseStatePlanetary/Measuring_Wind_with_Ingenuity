{
 "cells": [
  {
   "cell_type": "code",
   "execution_count": 15,
   "id": "3a972d93",
   "metadata": {},
   "outputs": [
    {
     "name": "stdout",
     "output_type": "stream",
     "text": [
      "The autoreload extension is already loaded. To reload it, use:\n",
      "  %reload_ext autoreload\n"
     ]
    }
   ],
   "source": [
    "%matplotlib inline\n",
    "%load_ext autoreload\n",
    "%autoreload 2\n",
    "\n",
    "import numpy as np\n",
    "import matplotlib.pyplot as plt\n",
    "from scipy.stats import median_abs_deviation as mad\n",
    "\n",
    "from local_utils import *"
   ]
  },
  {
   "cell_type": "code",
   "execution_count": 2,
   "id": "298e349a",
   "metadata": {},
   "outputs": [
    {
     "name": "stdout",
     "output_type": "stream",
     "text": [
      "Processing label: /Users/brian/Documents/research/Active Projects/Measuring_Wind_with_Ingenuity/code/MEDA_WS_Data/WE__0091___________DER_WS__________________P02.xml\n",
      "Now processing a Header structure: HEADER\n",
      "Now processing a Table_Delimited structure: TABLE\n"
     ]
    }
   ],
   "source": [
    "# WS_file = '/Users/brian/Documents/research/Active Projects/Measuring_Wind_with_Ingenuity/code/WE__0133___________DER_WS__________________P01.xml'\n",
    "which_sol = \"0091\"\n",
    "path = '/Users/brian/Documents/research/Active Projects/Measuring_Wind_with_Ingenuity/code/MEDA_WS_Data/'\n",
    "WS_file = path + 'WE__%s___________DER_WS__________________P02.xml' % (which_sol)\n",
    "\n",
    "time, wind = retrieve_time_wind(WS_file)"
   ]
  },
  {
   "cell_type": "markdown",
   "id": "70fcfd43",
   "metadata": {},
   "source": [
    "$$\n",
    "u(z) = \\frac{u_\\star}{\\kappa} \\ln \\left( \\frac{z}{z_\\star} \\right)\n",
    "$$"
   ]
  },
  {
   "cell_type": "markdown",
   "id": "a839b2ff",
   "metadata": {},
   "source": [
    "$$\n",
    "\\sigma_u \\le u(z_j) - u(z_i) = \\frac{u_\\star}{\\kappa} \\bigg[ \\ln \\left( \\frac{z_j}{z_\\star} \\right) - \\ln \\left( \\frac{z_i}{z_\\star} \\right)\\bigg]\n",
    "$$"
   ]
  },
  {
   "cell_type": "markdown",
   "id": "e3514885",
   "metadata": {},
   "source": [
    "$$\n",
    "u(z_j) - u(z_i) = \\frac{u_\\star}{\\kappa} \\ln \\left( \\frac{z_j}{z_i} \\right) \\ge \\sigma_u\n",
    "$$"
   ]
  },
  {
   "cell_type": "markdown",
   "id": "82e61bf2",
   "metadata": {},
   "source": [
    "$$\n",
    "\\frac{z_j}{z_i} \\ge \\exp\\left( \\kappa \\sigma_u/u_\\star \\right)\n",
    "$$"
   ]
  },
  {
   "cell_type": "code",
   "execution_count": 45,
   "id": "c51f9025",
   "metadata": {
    "scrolled": true
   },
   "outputs": [
    {
     "name": "stdout",
     "output_type": "stream",
     "text": [
      "3.0 12.0\n"
     ]
    },
    {
     "data": {
      "image/png": "[encoded data removed]",
      "text/plain": [
       "<Figure size 640x480 with 1 Axes>"
      ]
     },
     "metadata": {},
     "output_type": "display_data"
    }
   ],
   "source": [
    "t0 = np.min(time)\n",
    "sample_times = np.arange(1, 101, 1)*sample_time\n",
    "sample_times_array = np.array([sample_times[i].seconds for i in range(len(sample_times))])\n",
    "\n",
    "saved_med = np.zeros_like(sample_times)\n",
    "saved_mad = np.zeros_like(sample_times)\n",
    "\n",
    "for i in range(len(sample_times)):\n",
    "    ind = retrieve_relevant_times(time, t0, sample_times[i])\n",
    "    \n",
    "    saved_med[i] = np.median(wind[ind])\n",
    "    saved_mad[i] = 1.4826*mad(wind[ind])\n",
    "\n",
    "# plt.errorbar(sample_times_array, saved_med, yerr=saved_mad)\n",
    "# plt.scatter(sample_times_array, saved_mad)\n",
    "\n",
    "saved_zstar = 3. # cm\n",
    "saved_ustar = kappa*np.median(wind)/np.log(zs[0]/saved_zstar)\n",
    "\n",
    "# zj_over_zi = np.exp(kappa*saved_mad/saved_ustar)\n",
    "\n",
    "p = np.array([np.exp(kappa*3.*saved_mad[i]/saved_ustar) for i in range(len(saved_mad))])\n",
    "\n",
    "plt.scatter(sample_times_array, p)\n",
    "print(4.*0.75, 4*4*0.75)\n"
   ]
  }
 ],
 "metadata": {
  "kernelspec": {
   "display_name": "Python 3 (ipykernel)",
   "language": "python",
   "name": "python3"
  },
  "language_info": {
   "codemirror_mode": {
    "name": "ipython",
    "version": 3
   },
   "file_extension": ".py",
   "mimetype": "text/x-python",
   "name": "python",
   "nbconvert_exporter": "python",
   "pygments_lexer": "ipython3",
   "version": "3.10.9"
  }
 },
 "nbformat": 4,
 "nbformat_minor": 5
}
