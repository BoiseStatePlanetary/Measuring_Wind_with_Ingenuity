{
 "cells": [
  {
   "cell_type": "markdown",
   "id": "5a956b47",
   "metadata": {},
   "source": [
    "This notebook generates several synthetic wind time series meant to replicate the real wind data and then runs the wind profile analysis."
   ]
  },
  {
   "cell_type": "code",
   "execution_count": 3,
   "id": "18bf6635",
   "metadata": {},
   "outputs": [
    {
     "name": "stdout",
     "output_type": "stream",
     "text": [
      "The autoreload extension is already loaded. To reload it, use:\n",
      "  %reload_ext autoreload\n",
      "Processing label: ./MEDA_WS_Data/WE__0133___________DER_WS__________________P02.xml\n",
      "Now processing a Header structure: HEADER\n",
      "Now processing a Table_Delimited structure: TABLE\n",
      "34.45792737957053\n"
     ]
    }
   ],
   "source": [
    "# %matplotlib inline\n",
    "%load_ext autoreload\n",
    "%autoreload 2\n",
    "\n",
    "import matplotlib.pyplot as plt\n",
    "import numpy as np\n",
    "from local_utils import *\n",
    "import matplotlib.dates as md\n",
    "\n",
    "which_sol = \"0133\"\n",
    "path = './MEDA_WS_Data/'\n",
    "WS_file = path + 'WE__%s___________DER_WS__________________P02.xml' % (which_sol)\n",
    "\n",
    "time, wind = retrieve_time_wind(WS_file)\n",
    "wind *= 100. # cm/s\n",
    "saved_zstar = 10. # cm\n",
    "correct_ustar = kappa*np.mean(wind)/np.log(zs[0]/saved_zstar)\n",
    "print(correct_ustar)"
   ]
  },
  {
   "cell_type": "code",
   "execution_count": null,
   "id": "bbb4af3b",
   "metadata": {},
   "outputs": [],
   "source": [
    "num_time_series = 10\n",
    "\n",
    "correct_ustars = np.array([])\n",
    "saved_ustars = np.array([])\n",
    "saved_zstars = np.array([])\n",
    "\n",
    "for i in range(num_time_series):\n",
    "    synthetic_wind = generate_synthetic_wind(time, wind)\n",
    "    scaled_windspeeds = create_synthetic_wind_profile(synthetic_wind, zs, correct_zstar, z0=np.min(zs))    \n",
    "    averaged_windspeeds, std_windspeeds = sample_wind_profile(sample_time, t0, time, scaled_windspeeds, zs)\n",
    "    \n",
    "    ax1 = make_plot_of_original_and_scaled_windspeeds(time, synthetic_wind, zs, sample_time, t0, scaled_windspeeds, \n",
    "                                                  averaged_windspeeds, ax1)\n",
    "\n",
    "    ustar, zstar, sigma_ustar, sigma_zstar, std_windspeeds =\\\n",
    "        fit_wind_profile_scaled_values(zs, averaged_windspeeds, std_windspeeds, rescale_unc=False)\n",
    "\n",
    "    ax2 = make_plot_of_wind_data_and_profile_scaled_values(zs, averaged_windspeeds, \n",
    "        std_windspeeds, ustar, zstar, sigma_ustar, sigma_zstar, ax2)\n",
    "\n",
    "    # Collect ustar and zstar and uncertainties - Check that the fit worked\n",
    "    correct_ustars = np.append(correct_ustars, kappa*averaged_windspeeds[0]/np.log(zs[0]/correct_zstar))\n",
    "\n",
    "    saved_ustars = np.append(saved_ustars, ustar)\n",
    "    saved_zstars = np.append(saved_zstars, zstar)\n",
    "    saved_sigma_ustars = np.append(saved_sigma_ustars, sigma_ustar)\n",
    "    saved_sigma_zstars = np.append(saved_sigma_zstars, sigma_zstar)\n",
    "\n",
    "saved_zstar = 10. # cm\n",
    "t0 = np.min(time)\n",
    "ind = retrieve_relevant_times(time, t0, len(zs)*sample_time)\n",
    "saved_ustar = kappa*np.median(synthetic_wind[ind])/np.log(zs[0]/saved_zstar)\n",
    "\n",
    "scaled_windspeeds = create_synthetic_wind_profile(synthetic_wind, zs, saved_zstar, z0=np.min(zs))\n",
    "t0 = np.min(time)\n",
    "averaged_windspeeds, std_windspeeds = sample_wind_profile(sample_time, t0, time, scaled_windspeeds, zs)\n",
    "\n",
    "u_star, z_star, sigma_u_star, sigma_z_star, std_windspeeds =\\\n",
    "    fit_wind_profile_scaled_values(zs, averaged_windspeeds, std_windspeeds, rescale_unc=False)\n",
    "\n",
    "ax2 = make_plot_of_wind_data_and_profile_scaled_values(zs, averaged_windspeeds, \n",
    "    std_windspeeds, u_star, z_star, sigma_u_star, sigma_z_star, ax2)\n",
    "\n",
    "ax2.text(0.05, 0.725, r'Correct $u_\\star = %.0f\\, {\\rm cm\\ s^{-1}}$' % (saved_ustar), \n",
    "         fontsize=28, transform=ax2.transAxes)\n",
    "ax2.text(0.05, 0.675, r'Correct $z_\\star = %.0f\\, {\\rm cm}$' % (saved_zstar), \n",
    "         fontsize=28, transform=ax2.transAxes)\n",
    "ax1.set_xlim([np.min(time), np.min(time) + timedelta(seconds=len(zs)*sampling_duration)])"
   ]
  }
 ],
 "metadata": {
  "kernelspec": {
   "display_name": "Python 3 (ipykernel)",
   "language": "python",
   "name": "python3"
  },
  "language_info": {
   "codemirror_mode": {
    "name": "ipython",
    "version": 3
   },
   "file_extension": ".py",
   "mimetype": "text/x-python",
   "name": "python",
   "nbconvert_exporter": "python",
   "pygments_lexer": "ipython3",
   "version": "3.10.9"
  }
 },
 "nbformat": 4,
 "nbformat_minor": 5
}
